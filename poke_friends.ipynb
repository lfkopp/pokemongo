{
 "cells": [
  {
   "cell_type": "code",
   "execution_count": 1,
   "metadata": {},
   "outputs": [],
   "source": [
    "import requests\n",
    "from selenium import webdriver\n",
    "from selenium.webdriver.common.keys import Keys\n",
    "from time import sleep\n",
    "import qrcode as qr\n",
    "import os"
   ]
  },
  {
   "cell_type": "code",
   "execution_count": 2,
   "metadata": {},
   "outputs": [],
   "source": [
    "browser = webdriver.Firefox()\n",
    "browser.get(\"https://pokemon-amigos.web.app/pt-br/trainer-codes-pokemon-go\")"
   ]
  },
  {
   "cell_type": "code",
   "execution_count": 3,
   "metadata": {},
   "outputs": [],
   "source": [
    "uf = browser.find_element_by_xpath(\"/html/body/app-root/ion-app/ion-split-pane/ion-router-outlet/app-friends-code/ion-content/ion-grid/ion-row[1]/ion-col[2]/mat-card/mat-card-content/ion-row[1]/ion-col[2]/mat-form-field/div/div[1]/div/mat-select/div/div[1]/span\")\n",
    "uf.click()\n",
    "sleep(.5)\n",
    "uf = browser.find_element_by_id(\"mat-option-52\")\n",
    "uf.click()\n"
   ]
  },
  {
   "cell_type": "code",
   "execution_count": 4,
   "metadata": {},
   "outputs": [],
   "source": [
    "cidade = browser.find_element_by_xpath(\"/html/body/app-root/ion-app/ion-split-pane/ion-router-outlet/app-friends-code/ion-content/ion-grid/ion-row[1]/ion-col[2]/mat-card/mat-card-content/ion-row[1]/ion-col[3]/mat-form-field/div/div[1]/div/mat-select/div/div[1]/span\")\n",
    "cidade.click()\n",
    "sleep(.5)\n",
    "cidade = browser.find_element_by_id(\"mat-option-106\")\n",
    "cidade.click()"
   ]
  },
  {
   "cell_type": "code",
   "execution_count": 5,
   "metadata": {},
   "outputs": [],
   "source": [
    "ordem = browser.find_element_by_xpath(\"/html/body/app-root/ion-app/ion-split-pane/ion-router-outlet/app-friends-code/ion-content/ion-grid/ion-row[1]/ion-col[2]/mat-card/mat-card-content/ion-row[2]/ion-col[1]/mat-form-field/div/div[1]/div/mat-select/div/div[1]/span\")\n",
    "ordem.click()\n",
    "sleep(.5)\n",
    "ordem = browser.find_element_by_id(\"mat-option-1\")\n",
    "ordem.click()"
   ]
  },
  {
   "cell_type": "code",
   "execution_count": 6,
   "metadata": {},
   "outputs": [],
   "source": [
    "\n",
    "filtrar = browser.find_element_by_xpath(\"/html/body/app-root/ion-app/ion-split-pane/ion-router-outlet/app-friends-code/ion-content/ion-grid/ion-row[1]/ion-col[2]/mat-card/mat-card-content/ion-row[2]/ion-col[2]/button\")\n",
    "filtrar.click()\n",
    "sleep(1)\n"
   ]
  },
  {
   "cell_type": "code",
   "execution_count": 7,
   "metadata": {},
   "outputs": [],
   "source": [
    "import pandas as pd"
   ]
  },
  {
   "cell_type": "code",
   "execution_count": 8,
   "metadata": {},
   "outputs": [],
   "source": [
    "files = [x[:-4] for x  in os.listdir('qr_codes')]"
   ]
  },
  {
   "cell_type": "code",
   "execution_count": 9,
   "metadata": {},
   "outputs": [],
   "source": [
    "df = pd.DataFrame()"
   ]
  },
  {
   "cell_type": "code",
   "execution_count": 10,
   "metadata": {},
   "outputs": [
    {
     "name": "stdout",
     "output_type": "stream",
     "text": [
      "(10, 4)\n",
      "(30, 4)\n",
      "(60, 4)\n",
      "(100, 4)\n",
      "(150, 4)\n",
      "(210, 4)\n",
      "(280, 4)\n",
      "(360, 4)\n",
      "(450, 4)\n",
      "(550, 4)\n",
      "(660, 4)\n",
      "(780, 4)\n",
      "(910, 4)\n",
      "(1050, 4)\n",
      "(1200, 4)\n",
      "(1360, 4)\n"
     ]
    }
   ],
   "source": [
    "for _ in range(20):\n",
    "    try:\n",
    "        mostrar_mais = browser.find_element_by_xpath(\"//*[contains(text(), 'Mostrar mais códigos')]\")\n",
    "        mostrar_mais.click()\n",
    "        df2 = pd.read_html(browser.page_source)[0]\n",
    "        df = df.append(df2)\n",
    "        df.drop_duplicates(ignore_index=True)\n",
    "        print(df.shape)\n",
    "        sleep(1)\n",
    "    except:\n",
    "        sleep(10)"
   ]
  },
  {
   "cell_type": "code",
   "execution_count": 11,
   "metadata": {},
   "outputs": [],
   "source": [
    "lista = list(df.Código)\n",
    "lista = [x.replace(\" \",\"\") for x in lista]"
   ]
  },
  {
   "cell_type": "code",
   "execution_count": 14,
   "metadata": {},
   "outputs": [],
   "source": [
    "for cod in lista:\n",
    "    if cod not in files:\n",
    "        img = qr.make(cod)\n",
    "        img.save('qr_codes/'+str(cod)+'.png')"
   ]
  },
  {
   "cell_type": "code",
   "execution_count": null,
   "metadata": {},
   "outputs": [],
   "source": []
  }
 ],
 "metadata": {
  "kernelspec": {
   "display_name": "Python 3",
   "language": "python",
   "name": "python3"
  },
  "language_info": {
   "codemirror_mode": {
    "name": "ipython",
    "version": 3
   },
   "file_extension": ".py",
   "mimetype": "text/x-python",
   "name": "python",
   "nbconvert_exporter": "python",
   "pygments_lexer": "ipython3",
   "version": "3.8.2"
  }
 },
 "nbformat": 4,
 "nbformat_minor": 4
}
