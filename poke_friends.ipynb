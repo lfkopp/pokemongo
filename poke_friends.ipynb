{
 "cells": [
  {
   "cell_type": "code",
   "execution_count": 65,
   "metadata": {},
   "outputs": [],
   "source": [
    "import requests\n",
    "from selenium import webdriver\n",
    "from selenium.webdriver.common.keys import Keys\n",
    "from time import sleep\n",
    "import qrcode as qr\n",
    "import os"
   ]
  },
  {
   "cell_type": "code",
   "execution_count": 2,
   "metadata": {},
   "outputs": [],
   "source": [
    "browser = webdriver.Firefox()\n",
    "browser.get(\"https://pokemon-amigos.web.app/pt-br/trainer-codes-pokemon-go\")"
   ]
  },
  {
   "cell_type": "code",
   "execution_count": 3,
   "metadata": {},
   "outputs": [],
   "source": [
    "uf = browser.find_element_by_xpath(\"/html/body/app-root/ion-app/ion-split-pane/ion-router-outlet/app-friends-code/ion-content/ion-grid/ion-row[1]/ion-col[2]/mat-card/mat-card-content/ion-row[1]/ion-col[2]/mat-form-field/div/div[1]/div/mat-select/div/div[1]/span\")\n",
    "uf.click()\n",
    "sleep(.5)\n",
    "uf = browser.find_element_by_id(\"mat-option-52\")\n",
    "uf.click()\n"
   ]
  },
  {
   "cell_type": "code",
   "execution_count": 4,
   "metadata": {},
   "outputs": [],
   "source": [
    "cidade = browser.find_element_by_xpath(\"/html/body/app-root/ion-app/ion-split-pane/ion-router-outlet/app-friends-code/ion-content/ion-grid/ion-row[1]/ion-col[2]/mat-card/mat-card-content/ion-row[1]/ion-col[3]/mat-form-field/div/div[1]/div/mat-select/div/div[1]/span\")\n",
    "cidade.click()\n",
    "sleep(.5)\n",
    "cidade = browser.find_element_by_id(\"mat-option-106\")\n",
    "cidade.click()"
   ]
  },
  {
   "cell_type": "code",
   "execution_count": 5,
   "metadata": {},
   "outputs": [],
   "source": [
    "ordem = browser.find_element_by_xpath(\"/html/body/app-root/ion-app/ion-split-pane/ion-router-outlet/app-friends-code/ion-content/ion-grid/ion-row[1]/ion-col[2]/mat-card/mat-card-content/ion-row[2]/ion-col[1]/mat-form-field/div/div[1]/div/mat-select/div/div[1]/span\")\n",
    "ordem.click()\n",
    "sleep(.5)\n",
    "ordem = browser.find_element_by_id(\"mat-option-1\")\n",
    "ordem.click()"
   ]
  },
  {
   "cell_type": "code",
   "execution_count": 30,
   "metadata": {},
   "outputs": [],
   "source": [
    "\n",
    "filtrar = browser.find_element_by_xpath(\"/html/body/app-root/ion-app/ion-split-pane/ion-router-outlet/app-friends-code/ion-content/ion-grid/ion-row[1]/ion-col[2]/mat-card/mat-card-content/ion-row[2]/ion-col[2]/button\")\n",
    "filtrar.click()\n",
    "sleep(1)\n"
   ]
  },
  {
   "cell_type": "code",
   "execution_count": 34,
   "metadata": {},
   "outputs": [],
   "source": [
    "import pandas as pd"
   ]
  },
  {
   "cell_type": "code",
   "execution_count": null,
   "metadata": {},
   "outputs": [],
   "source": [
    "files = [x[:-4] for x  in os.listdir('qr_codes')]"
   ]
  },
  {
   "cell_type": "code",
   "execution_count": null,
   "metadata": {},
   "outputs": [],
   "source": [
    "df = pd.DataFrame()"
   ]
  },
  {
   "cell_type": "code",
   "execution_count": 74,
   "metadata": {},
   "outputs": [
    {
     "name": "stdout",
     "output_type": "stream",
     "text": [
      "(520, 4)\n",
      "(710, 4)\n",
      "(910, 4)\n",
      "(1120, 4)\n",
      "(1340, 4)\n",
      "(1570, 4)\n",
      "(1810, 4)\n",
      "(2060, 4)\n",
      "(2320, 4)\n",
      "(2590, 4)\n",
      "(2870, 4)\n",
      "(3160, 4)\n",
      "(3460, 4)\n",
      "(3770, 4)\n",
      "(4090, 4)\n"
     ]
    }
   ],
   "source": [
    "for _ in range(20):\n",
    "    try:\n",
    "        mostrar_mais = browser.find_element_by_xpath(\"//*[contains(text(), 'Mostrar mais códigos')]\")\n",
    "        mostrar_mais.click()\n",
    "        df2 = pd.read_html(browser.page_source)[0]\n",
    "        df = df.append(df2)\n",
    "        df.drop_duplicates(ignore_index=True)\n",
    "        print(df.shape)\n",
    "        sleep(1)\n",
    "    except:\n",
    "        sleep(10)"
   ]
  },
  {
   "cell_type": "code",
   "execution_count": 75,
   "metadata": {},
   "outputs": [],
   "source": [
    "lista = list(df.Código)\n",
    "lista = [x.replace(\" \",\"\") for x in lista]"
   ]
  },
  {
   "cell_type": "code",
   "execution_count": 76,
   "metadata": {},
   "outputs": [],
   "source": [
    "for cod in lista:\n",
    "    if cod not in files:\n",
    "        img = qrcode.make(cod)\n",
    "        img.save('qr_codes/'+str(cod)+'.png')"
   ]
  },
  {
   "cell_type": "code",
   "execution_count": null,
   "metadata": {},
   "outputs": [],
   "source": []
  }
 ],
 "metadata": {
  "kernelspec": {
   "display_name": "Python 3",
   "language": "python",
   "name": "python3"
  },
  "language_info": {
   "codemirror_mode": {
    "name": "ipython",
    "version": 3
   },
   "file_extension": ".py",
   "mimetype": "text/x-python",
   "name": "python",
   "nbconvert_exporter": "python",
   "pygments_lexer": "ipython3",
   "version": "3.8.2"
  }
 },
 "nbformat": 4,
 "nbformat_minor": 4
}
