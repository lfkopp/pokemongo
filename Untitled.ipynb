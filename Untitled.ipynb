{
 "cells": [
  {
   "cell_type": "code",
   "execution_count": 15,
   "metadata": {
    "tags": []
   },
   "outputs": [
    {
     "output_type": "stream",
     "name": "stderr",
     "text": "* daemon not running; starting now at tcp:5037\n* daemon started successfully\n"
    }
   ],
   "source": [
    "!adb kill-server\n",
    "!adb usb"
   ]
  },
  {
   "cell_type": "code",
   "execution_count": 17,
   "metadata": {
    "tags": []
   },
   "outputs": [
    {
     "output_type": "stream",
     "name": "stdout",
     "text": "List of devices attached\n0063441872\tdevice\n\n"
    }
   ],
   "source": [
    "!adb devices"
   ]
  },
  {
   "cell_type": "code",
   "execution_count": 18,
   "metadata": {
    "tags": []
   },
   "outputs": [],
   "source": [
    "!adb tcpip 5556"
   ]
  },
  {
   "cell_type": "code",
   "execution_count": 19,
   "metadata": {
    "tags": []
   },
   "outputs": [
    {
     "output_type": "stream",
     "name": "stdout",
     "text": "connected to 192.168.0.11:5556\n"
    }
   ],
   "source": [
    "!adb connect \"192.168.0.11:5556\""
   ]
  },
  {
   "cell_type": "code",
   "execution_count": 20,
   "metadata": {
    "tags": []
   },
   "outputs": [
    {
     "output_type": "stream",
     "name": "stdout",
     "text": "List of devices attached\n0063441872\tdevice\n192.168.0.11:5556\tdevice\n\n"
    }
   ],
   "source": [
    "!adb devices"
   ]
  },
  {
   "cell_type": "code",
   "execution_count": 46,
   "metadata": {
    "tags": []
   },
   "outputs": [
    {
     "output_type": "stream",
     "name": "stdout",
     "text": "41\n"
    }
   ],
   "source": [
    "from time import sleep\n",
    "from ppadb.client import Client as AdbClient\n",
    "# Default is \"127.0.0.1\" and 5037\n",
    "client = AdbClient(host=\"127.0.0.1\", port=5037)\n",
    "print(client.version())"
   ]
  },
  {
   "cell_type": "code",
   "execution_count": 23,
   "metadata": {},
   "outputs": [
    {
     "output_type": "execute_result",
     "data": {
      "text/plain": "'hello world !\\n'"
     },
     "metadata": {},
     "execution_count": 23
    }
   ],
   "source": [
    "device = client.device(\"192.168.0.11:5556\")\n",
    "device.shell(\"echo hello world !\")"
   ]
  },
  {
   "cell_type": "code",
   "execution_count": 90,
   "metadata": {},
   "outputs": [],
   "source": [
    "result = device.screencap()\n",
    "with open(\"screen.png\", \"wb\") as fp:\n",
    "    fp.write(result)"
   ]
  },
  {
   "cell_type": "code",
   "execution_count": 34,
   "metadata": {},
   "outputs": [
    {
     "output_type": "execute_result",
     "data": {
      "text/plain": "''"
     },
     "metadata": {},
     "execution_count": 34
    }
   ],
   "source": [
    "# clica na cara\n",
    "device.shell(\"input tap 131 1975\")"
   ]
  },
  {
   "cell_type": "code",
   "execution_count": 36,
   "metadata": {},
   "outputs": [
    {
     "output_type": "execute_result",
     "data": {
      "text/plain": "''"
     },
     "metadata": {},
     "execution_count": 36
    }
   ],
   "source": [
    "# amigos\n",
    "device.shell(\"input tap 722 252\")\n"
   ]
  },
  {
   "cell_type": "code",
   "execution_count": 66,
   "metadata": {},
   "outputs": [],
   "source": [
    "def insert_qr_code():\n",
    "    \n",
    "    device.shell(\"input tap 503 503\") # adicionar amigos\n",
    "    sleep(3)\n",
    "    device.shell(\"input tap 728 238\") # codigoqr\n",
    "    sleep(3)\n",
    "    device.shell(\"input tap 520 1250\") # ok\n",
    "    sleep(3)"
   ]
  },
  {
   "cell_type": "code",
   "execution_count": 67,
   "metadata": {},
   "outputs": [],
   "source": [
    "insert_qr_code()"
   ]
  },
  {
   "cell_type": "code",
   "execution_count": 91,
   "metadata": {},
   "outputs": [],
   "source": [
    "def insert_number(number):\n",
    "    device.shell(\"input tap 250 1400\") # caixa de texto\n",
    "    sleep(.2)\n",
    "    device.shell(f\"input text {number}\") # insere o numero\n",
    "    sleep(.2)\n",
    "    device.shell(\"input tap 500 900\") # ok\n",
    "    sleep(1)\n",
    "    device.shell(\"input tap 500 900\") # ok\n",
    "    sleep(3)\n",
    "    device.shell(\"input tap 500 1250\") # ok"
   ]
  },
  {
   "cell_type": "code",
   "execution_count": 92,
   "metadata": {},
   "outputs": [],
   "source": [
    "for x in lista:\n",
    "    insert_number(x)"
   ]
  },
  {
   "cell_type": "code",
   "execution_count": 86,
   "metadata": {},
   "outputs": [],
   "source": [
    "lista = [\n",
    " '523772813588',\n",
    " '758696481282',\n",
    " '313946612202',\n",
    " '719842574604',\n",
    " '938026522038',\n",
    " '872662461431',\n",
    " '157544376017',\n",
    " '558020973371',\n",
    " '841560989965',\n",
    " '591774938825',\n",
    " '523772813588',\n",
    " '758696481282',\n",
    " '313946612202',\n",
    " '719842574604',\n",
    " '938026522038',\n",
    " '872662461431',\n",
    " '104367020888',\n",
    " '668071551806',\n",
    " '190693002918',\n",
    " '907113328320',\n",
    " '960790122659',\n",
    " '453087760029',\n",
    " '432162686843',\n",
    " '997472479671',\n",
    " '559882928471',\n",
    " '102956398882',\n",
    " '157544376017',\n",
    " '558020973371',\n",
    " '841560989965',\n",
    " '591774938825',\n",
    " '523772813588',\n",
    " '758696481282',\n",
    " '313946612202',\n",
    " '719842574604',\n",
    " '938026522038',\n",
    " '872662461431',\n",
    " '104367020888',\n",
    " '668071551806',\n",
    " '190693002918',\n",
    " '907113328320',\n",
    " '960790122659',\n",
    " '453087760029',\n",
    " '432162686843',\n",
    " '997472479671',\n",
    " '559882928471',\n",
    " '102956398882',\n",
    " '968731464204',\n",
    " '605973630080',\n",
    " '141836619990',\n",
    " '470038861838',\n",
    " '900136875597',\n",
    " '783065844501',\n",
    " '703768682686',\n",
    " '778746049076',\n",
    " '591733180931',\n",
    " '977200944276',\n",
    " '157544376017',\n",
    " '558020973371',\n",
    " '841560989965',\n",
    " '591774938825',\n",
    " '523772813588',\n",
    " '758696481282',\n",
    " '313946612202',\n",
    " '719842574604',\n",
    " '938026522038',\n",
    " '872662461431',\n",
    " '104367020888',\n",
    " '668071551806',\n",
    " '190693002918',\n",
    " '907113328320',\n",
    " '960790122659',\n",
    " '453087760029',\n",
    " '432162686843',\n",
    " '997472479671',\n",
    " '559882928471',\n",
    " '102956398882',\n",
    " '968731464204',\n",
    " '605973630080',\n",
    " '141836619990',\n",
    " '470038861838',\n",
    " '900136875597',\n",
    " '783065844501',\n",
    " '703768682686',\n",
    " '778746049076',\n",
    " '591733180931',\n",
    " '977200944276',\n",
    " '148901425101',\n",
    " '484362371025',\n",
    " '741029161007',\n",
    " '118646484536',\n",
    " '218777288171',\n",
    " '745624223395',\n",
    " '333262704726',\n",
    " '780774215829',\n",
    " '914744134922',\n",
    " '813888547525',\n",
    " '157544376017',\n",
    " '558020973371',\n",
    " '841560989965',\n",
    " '591774938825',\n",
    " '523772813588',\n",
    " '758696481282',\n",
    " '313946612202',\n",
    " '719842574604',\n",
    " '938026522038',\n",
    " '872662461431',\n",
    " '157544376017',\n",
    " '558020973371',\n",
    " '841560989965',\n",
    " '591774938825',\n",
    " '523772813588',\n",
    " '758696481282',\n",
    " '313946612202',\n",
    " '719842574604',\n",
    " '938026522038',\n",
    " '872662461431',\n",
    " '104367020888',\n",
    " '668071551806',\n",
    " '190693002918',\n",
    " '907113328320',\n",
    " '960790122659',\n",
    " '453087760029',\n",
    " '432162686843',\n",
    " '997472479671',\n",
    " '559882928471',\n",
    " '102956398882']"
   ]
  },
  {
   "cell_type": "code",
   "execution_count": 65,
   "metadata": {},
   "outputs": [
    {
     "output_type": "execute_result",
     "data": {
      "text/plain": "''"
     },
     "metadata": {},
     "execution_count": 65
    }
   ],
   "source": [
    "device.shell(\"input tap 500 1200\") # ok"
   ]
  },
  {
   "cell_type": "code",
   "execution_count": null,
   "metadata": {},
   "outputs": [],
   "source": []
  }
 ],
 "metadata": {
  "kernelspec": {
   "display_name": "Python 3",
   "language": "python",
   "name": "python3"
  },
  "language_info": {
   "codemirror_mode": {
    "name": "ipython",
    "version": 3
   },
   "file_extension": ".py",
   "mimetype": "text/x-python",
   "name": "python",
   "nbconvert_exporter": "python",
   "pygments_lexer": "ipython3",
   "version": "3.8.2-final"
  }
 },
 "nbformat": 4,
 "nbformat_minor": 4
}